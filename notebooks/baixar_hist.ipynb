{
 "cells": [
  {
   "cell_type": "code",
   "execution_count": 8,
   "metadata": {},
   "outputs": [],
   "source": [
    "import requests\n",
    "import pickle"
   ]
  },
  {
   "cell_type": "code",
   "execution_count": 11,
   "metadata": {},
   "outputs": [
    {
     "name": "stdout",
     "output_type": "stream",
     "text": [
      "{'meta': {'version': 1, 'request': 'http://nba.cloud/games/0022001080/boxscoretraditional?Format=json', 'time': '2021-10-16T10:49:04.494Z'}, 'boxScoreTraditional': {'gameId': '0022001080', 'awayTeamId': 1610612766, 'homeTeamId': 1610612764, 'homeTeam': {'teamId': 1610612764, 'teamCity': 'Washington', 'teamName': 'Wizards', 'teamTricode': 'WAS', 'teamSlug': 'wizards', 'players': [{'personId': 202722, 'firstName': 'Davis', 'familyName': 'Bertans', 'nameI': 'D. Bertans', 'playerSlug': 'davis-bertans', 'position': 'F', 'comment': '', 'jerseyNum': '', 'statistics': {'minutes': '7:10', 'fieldGoalsMade': 2, 'fieldGoalsAttempted': 3, 'fieldGoalsPercentage': 0.667, 'threePointersMade': 1, 'threePointersAttempted': 2, 'threePointersPercentage': 0.5, 'freeThrowsMade': 0, 'freeThrowsAttempted': 0, 'freeThrowsPercentage': 0.0, 'reboundsOffensive': 0, 'reboundsDefensive': 0, 'reboundsTotal': 0, 'assists': 0, 'steals': 0, 'blocks': 0, 'turnovers': 0, 'foulsPersonal': 0, 'points': 5, 'plusMinusPoints': -11.0}}, {'personId': 1629060, 'firstName': 'Rui', 'familyName': 'Hachimura', 'nameI': 'R. Hachimura', 'playerSlug': 'rui-hachimura', 'position': 'F', 'comment': '', 'jerseyNum': '', 'statistics': {'minutes': '8:35', 'fieldGoalsMade': 2, 'fieldGoalsAttempted': 4, 'fieldGoalsPercentage': 0.5, 'threePointersMade': 0, 'threePointersAttempted': 0, 'threePointersPercentage': 0.0, 'freeThrowsMade': 0, 'freeThrowsAttempted': 0, 'freeThrowsPercentage': 0.0, 'reboundsOffensive': 0, 'reboundsDefensive': 2, 'reboundsTotal': 2, 'assists': 0, 'steals': 0, 'blocks': 0, 'turnovers': 0, 'foulsPersonal': 0, 'points': 4, 'plusMinusPoints': -12.0}}, {'personId': 203458, 'firstName': 'Alex', 'familyName': 'Len', 'nameI': 'A. Len', 'playerSlug': 'alex-len', 'position': 'C', 'comment': '', 'jerseyNum': '', 'statistics': {'minutes': '4:40', 'fieldGoalsMade': 0, 'fieldGoalsAttempted': 0, 'fieldGoalsPercentage': 0.0, 'threePointersMade': 0, 'threePointersAttempted': 0, 'threePointersPercentage': 0.0, 'freeThrowsMade': 0, 'freeThrowsAttempted': 0, 'freeThrowsPercentage': 0.0, 'reboundsOffensive': 0, 'reboundsDefensive': 1, 'reboundsTotal': 1, 'assists': 0, 'steals': 0, 'blocks': 0, 'turnovers': 0, 'foulsPersonal': 1, 'points': 0, 'plusMinusPoints': -5.0}}, {'personId': 203078, 'firstName': 'Bradley', 'familyName': 'Beal', 'nameI': 'B. Beal', 'playerSlug': 'bradley-beal', 'position': 'G', 'comment': '', 'jerseyNum': '', 'statistics': {'minutes': '6:46', 'fieldGoalsMade': 0, 'fieldGoalsAttempted': 6, 'fieldGoalsPercentage': 0.0, 'threePointersMade': 0, 'threePointersAttempted': 2, 'threePointersPercentage': 0.0, 'freeThrowsMade': 0, 'freeThrowsAttempted': 0, 'freeThrowsPercentage': 0.0, 'reboundsOffensive': 0, 'reboundsDefensive': 0, 'reboundsTotal': 0, 'assists': 0, 'steals': 0, 'blocks': 0, 'turnovers': 1, 'foulsPersonal': 1, 'points': 0, 'plusMinusPoints': -4.0}}, {'personId': 201566, 'firstName': 'Russell', 'familyName': 'Westbrook', 'nameI': 'R. Westbrook', 'playerSlug': 'russell-westbrook', 'position': 'G', 'comment': '', 'jerseyNum': '', 'statistics': {'minutes': '8:46', 'fieldGoalsMade': 1, 'fieldGoalsAttempted': 5, 'fieldGoalsPercentage': 0.2, 'threePointersMade': 0, 'threePointersAttempted': 2, 'threePointersPercentage': 0.0, 'freeThrowsMade': 1, 'freeThrowsAttempted': 2, 'freeThrowsPercentage': 0.5, 'reboundsOffensive': 2, 'reboundsDefensive': 4, 'reboundsTotal': 6, 'assists': 3, 'steals': 1, 'blocks': 0, 'turnovers': 2, 'foulsPersonal': 1, 'points': 3, 'plusMinusPoints': -10.0}}, {'personId': 1628990, 'firstName': 'Chandler', 'familyName': 'Hutchison', 'nameI': 'C. Hutchison', 'playerSlug': 'chandler-hutchison', 'position': '', 'comment': '', 'jerseyNum': '', 'statistics': {'minutes': '6:39', 'fieldGoalsMade': 0, 'fieldGoalsAttempted': 1, 'fieldGoalsPercentage': 0.0, 'threePointersMade': 0, 'threePointersAttempted': 1, 'threePointersPercentage': 0.0, 'freeThrowsMade': 0, 'freeThrowsAttempted': 0, 'freeThrowsPercentage': 0.0, 'reboundsOffensive': 0, 'reboundsDefensive': 0, 'reboundsTotal': 0, 'assists': 0, 'steals': 0, 'blocks': 0, 'turnovers': 0, 'foulsPersonal': 0, 'points': 0, 'plusMinusPoints': -11.0}}, {'personId': 1629655, 'firstName': 'Daniel', 'familyName': 'Gafford', 'nameI': 'D. Gafford', 'playerSlug': 'daniel-gafford', 'position': '', 'comment': '', 'jerseyNum': '', 'statistics': {'minutes': '7:20', 'fieldGoalsMade': 3, 'fieldGoalsAttempted': 5, 'fieldGoalsPercentage': 0.6, 'threePointersMade': 0, 'threePointersAttempted': 0, 'threePointersPercentage': 0.0, 'freeThrowsMade': 0, 'freeThrowsAttempted': 0, 'freeThrowsPercentage': 0.0, 'reboundsOffensive': 1, 'reboundsDefensive': 3, 'reboundsTotal': 4, 'assists': 0, 'steals': 0, 'blocks': 1, 'turnovers': 0, 'foulsPersonal': 1, 'points': 6, 'plusMinusPoints': -9.0}}, {'personId': 202397, 'firstName': 'Ish', 'familyName': 'Smith', 'nameI': 'I. Smith', 'playerSlug': 'ish-smith', 'position': '', 'comment': '', 'jerseyNum': '', 'statistics': {'minutes': '6:39', 'fieldGoalsMade': 2, 'fieldGoalsAttempted': 3, 'fieldGoalsPercentage': 0.667, 'threePointersMade': 0, 'threePointersAttempted': 0, 'threePointersPercentage': 0.0, 'freeThrowsMade': 0, 'freeThrowsAttempted': 0, 'freeThrowsPercentage': 0.0, 'reboundsOffensive': 1, 'reboundsDefensive': 1, 'reboundsTotal': 2, 'assists': 2, 'steals': 0, 'blocks': 0, 'turnovers': 1, 'foulsPersonal': 0, 'points': 4, 'plusMinusPoints': -6.0}}, {'personId': 1630264, 'firstName': 'Anthony', 'familyName': 'Gill', 'nameI': 'A. Gill', 'playerSlug': 'anthony-gill', 'position': '', 'comment': '', 'jerseyNum': '', 'statistics': {'minutes': '3:25', 'fieldGoalsMade': 0, 'fieldGoalsAttempted': 0, 'fieldGoalsPercentage': 0.0, 'threePointersMade': 0, 'threePointersAttempted': 0, 'threePointersPercentage': 0.0, 'freeThrowsMade': 0, 'freeThrowsAttempted': 0, 'freeThrowsPercentage': 0.0, 'reboundsOffensive': 0, 'reboundsDefensive': 0, 'reboundsTotal': 0, 'assists': 0, 'steals': 0, 'blocks': 0, 'turnovers': 1, 'foulsPersonal': 0, 'points': 0, 'plusMinusPoints': -2.0}}], 'statistics': {'minutes': '60:00', 'fieldGoalsMade': 10, 'fieldGoalsAttempted': 27, 'fieldGoalsPercentage': 0.37, 'threePointersMade': 1, 'threePointersAttempted': 7, 'threePointersPercentage': 0.143, 'freeThrowsMade': 1, 'freeThrowsAttempted': 2, 'freeThrowsPercentage': 0.5, 'reboundsOffensive': 4, 'reboundsDefensive': 11, 'reboundsTotal': 15, 'assists': 5, 'steals': 1, 'blocks': 1, 'turnovers': 5, 'foulsPersonal': 4, 'points': 22, 'plusMinusPoints': -14.0}, 'starters': {'minutes': '35:57', 'fieldGoalsMade': 5, 'fieldGoalsAttempted': 18, 'fieldGoalsPercentage': 0.278, 'threePointersMade': 1, 'threePointersAttempted': 6, 'threePointersPercentage': 0.167, 'freeThrowsMade': 1, 'freeThrowsAttempted': 2, 'freeThrowsPercentage': 0.5, 'reboundsOffensive': 2, 'reboundsDefensive': 7, 'reboundsTotal': 9, 'assists': 3, 'steals': 1, 'blocks': 0, 'turnovers': 3, 'foulsPersonal': 3, 'points': 12}, 'bench': {'minutes': '35:57', 'fieldGoalsMade': 5, 'fieldGoalsAttempted': 18, 'fieldGoalsPercentage': 0.278, 'threePointersMade': 1, 'threePointersAttempted': 6, 'threePointersPercentage': 0.167, 'freeThrowsMade': 1, 'freeThrowsAttempted': 2, 'freeThrowsPercentage': 0.5, 'reboundsOffensive': 2, 'reboundsDefensive': 7, 'reboundsTotal': 9, 'assists': 3, 'steals': 1, 'blocks': 0, 'turnovers': 3, 'foulsPersonal': 3, 'points': 12}}, 'awayTeam': {'teamId': 1610612766, 'teamCity': 'Charlotte', 'teamName': 'Hornets', 'teamTricode': 'CHA', 'teamSlug': 'hornets', 'players': [{'personId': 1628970, 'firstName': 'Miles', 'familyName': 'Bridges', 'nameI': 'M. Bridges', 'playerSlug': 'miles-bridges', 'position': 'F', 'comment': '', 'jerseyNum': '', 'statistics': {'minutes': '9:06', 'fieldGoalsMade': 0, 'fieldGoalsAttempted': 2, 'fieldGoalsPercentage': 0.0, 'threePointersMade': 0, 'threePointersAttempted': 2, 'threePointersPercentage': 0.0, 'freeThrowsMade': 2, 'freeThrowsAttempted': 2, 'freeThrowsPercentage': 1.0, 'reboundsOffensive': 0, 'reboundsDefensive': 1, 'reboundsTotal': 1, 'assists': 0, 'steals': 0, 'blocks': 3, 'turnovers': 0, 'foulsPersonal': 0, 'points': 2, 'plusMinusPoints': 7.0}}, {'personId': 1629667, 'firstName': 'Jalen', 'familyName': 'McDaniels', 'nameI': 'J. McDaniels', 'playerSlug': 'jalen-mcdaniels', 'position': 'F', 'comment': '', 'jerseyNum': '', 'statistics': {'minutes': '11:13', 'fieldGoalsMade': 1, 'fieldGoalsAttempted': 2, 'fieldGoalsPercentage': 0.5, 'threePointersMade': 0, 'threePointersAttempted': 1, 'threePointersPercentage': 0.0, 'freeThrowsMade': 0, 'freeThrowsAttempted': 0, 'freeThrowsPercentage': 0.0, 'reboundsOffensive': 0, 'reboundsDefensive': 2, 'reboundsTotal': 2, 'assists': 0, 'steals': 0, 'blocks': 0, 'turnovers': 1, 'foulsPersonal': 0, 'points': 2, 'plusMinusPoints': 14.0}}, {'personId': 1629023, 'firstName': 'P.J.', 'familyName': 'Washington', 'nameI': 'P. Washington', 'playerSlug': 'pj-washington', 'position': 'C', 'comment': '', 'jerseyNum': '', 'statistics': {'minutes': '9:02', 'fieldGoalsMade': 4, 'fieldGoalsAttempted': 5, 'fieldGoalsPercentage': 0.8, 'threePointersMade': 3, 'threePointersAttempted': 4, 'threePointersPercentage': 0.75, 'freeThrowsMade': 0, 'freeThrowsAttempted': 0, 'freeThrowsPercentage': 0.0, 'reboundsOffensive': 0, 'reboundsDefensive': 2, 'reboundsTotal': 2, 'assists': 2, 'steals': 0, 'blocks': 1, 'turnovers': 0, 'foulsPersonal': 1, 'points': 11, 'plusMinusPoints': 15.0}}, {'personId': 1626179, 'firstName': 'Terry', 'familyName': 'Rozier', 'nameI': 'T. Rozier', 'playerSlug': 'terry-rozier', 'position': 'G', 'comment': '', 'jerseyNum': '', 'statistics': {'minutes': '9:02', 'fieldGoalsMade': 2, 'fieldGoalsAttempted': 5, 'fieldGoalsPercentage': 0.4, 'threePointersMade': 1, 'threePointersAttempted': 1, 'threePointersPercentage': 1.0, 'freeThrowsMade': 1, 'freeThrowsAttempted': 1, 'freeThrowsPercentage': 1.0, 'reboundsOffensive': 1, 'reboundsDefensive': 2, 'reboundsTotal': 3, 'assists': 3, 'steals': 1, 'blocks': 0, 'turnovers': 0, 'foulsPersonal': 0, 'points': 6, 'plusMinusPoints': 15.0}}, {'personId': 1630163, 'firstName': 'LaMelo', 'familyName': 'Ball', 'nameI': 'L. Ball', 'playerSlug': 'lamelo-ball', 'position': 'G', 'comment': '', 'jerseyNum': '', 'statistics': {'minutes': '8:51', 'fieldGoalsMade': 2, 'fieldGoalsAttempted': 6, 'fieldGoalsPercentage': 0.333, 'threePointersMade': 1, 'threePointersAttempted': 2, 'threePointersPercentage': 0.5, 'freeThrowsMade': 0, 'freeThrowsAttempted': 1, 'freeThrowsPercentage': 0.0, 'reboundsOffensive': 1, 'reboundsDefensive': 1, 'reboundsTotal': 2, 'assists': 3, 'steals': 2, 'blocks': 0, 'turnovers': 0, 'foulsPersonal': 0, 'points': 5, 'plusMinusPoints': 7.0}}, {'personId': 1628984, 'firstName': \"Devonte'\", 'familyName': 'Graham', 'nameI': 'D. Graham', 'playerSlug': 'devonte-graham', 'position': '', 'comment': '', 'jerseyNum': '', 'statistics': {'minutes': '5:50', 'fieldGoalsMade': 2, 'fieldGoalsAttempted': 2, 'fieldGoalsPercentage': 1.0, 'threePointersMade': 2, 'threePointersAttempted': 2, 'threePointersPercentage': 1.0, 'freeThrowsMade': 2, 'freeThrowsAttempted': 2, 'freeThrowsPercentage': 1.0, 'reboundsOffensive': 0, 'reboundsDefensive': 1, 'reboundsTotal': 1, 'assists': 0, 'steals': 1, 'blocks': 0, 'turnovers': 0, 'foulsPersonal': 0, 'points': 8, 'plusMinusPoints': 6.0}}, {'personId': 203469, 'firstName': 'Cody', 'familyName': 'Zeller', 'nameI': 'C. Zeller', 'playerSlug': 'cody-zeller', 'position': '', 'comment': '', 'jerseyNum': '', 'statistics': {'minutes': '6:07', 'fieldGoalsMade': 1, 'fieldGoalsAttempted': 3, 'fieldGoalsPercentage': 0.333, 'threePointersMade': 0, 'threePointersAttempted': 0, 'threePointersPercentage': 0.0, 'freeThrowsMade': 0, 'freeThrowsAttempted': 0, 'freeThrowsPercentage': 0.0, 'reboundsOffensive': 1, 'reboundsDefensive': 0, 'reboundsTotal': 1, 'assists': 1, 'steals': 0, 'blocks': 0, 'turnovers': 1, 'foulsPersonal': 1, 'points': 2, 'plusMinusPoints': 6.0}}, {'personId': 1628370, 'firstName': 'Malik', 'familyName': 'Monk', 'nameI': 'M. Monk', 'playerSlug': 'malik-monk', 'position': '', 'comment': '', 'jerseyNum': '', 'statistics': {'minutes': '0:49', 'fieldGoalsMade': 0, 'fieldGoalsAttempted': 1, 'fieldGoalsPercentage': 0.0, 'threePointersMade': 0, 'threePointersAttempted': 0, 'threePointersPercentage': 0.0, 'freeThrowsMade': 0, 'freeThrowsAttempted': 0, 'freeThrowsPercentage': 0.0, 'reboundsOffensive': 0, 'reboundsDefensive': 0, 'reboundsTotal': 0, 'assists': 0, 'steals': 0, 'blocks': 0, 'turnovers': 0, 'foulsPersonal': 0, 'points': 0, 'plusMinusPoints': 0.0}}], 'statistics': {'minutes': '60:00', 'fieldGoalsMade': 12, 'fieldGoalsAttempted': 26, 'fieldGoalsPercentage': 0.462, 'threePointersMade': 7, 'threePointersAttempted': 12, 'threePointersPercentage': 0.583, 'freeThrowsMade': 5, 'freeThrowsAttempted': 6, 'freeThrowsPercentage': 0.833, 'reboundsOffensive': 3, 'reboundsDefensive': 9, 'reboundsTotal': 12, 'assists': 9, 'steals': 4, 'blocks': 4, 'turnovers': 2, 'foulsPersonal': 2, 'points': 36, 'plusMinusPoints': 14.0}, 'starters': {'minutes': '47:14', 'fieldGoalsMade': 9, 'fieldGoalsAttempted': 20, 'fieldGoalsPercentage': 0.45, 'threePointersMade': 5, 'threePointersAttempted': 10, 'threePointersPercentage': 0.5, 'freeThrowsMade': 3, 'freeThrowsAttempted': 4, 'freeThrowsPercentage': 0.75, 'reboundsOffensive': 2, 'reboundsDefensive': 8, 'reboundsTotal': 10, 'assists': 8, 'steals': 3, 'blocks': 4, 'turnovers': 1, 'foulsPersonal': 1, 'points': 26}, 'bench': {'minutes': '47:14', 'fieldGoalsMade': 9, 'fieldGoalsAttempted': 20, 'fieldGoalsPercentage': 0.45, 'threePointersMade': 5, 'threePointersAttempted': 10, 'threePointersPercentage': 0.5, 'freeThrowsMade': 3, 'freeThrowsAttempted': 4, 'freeThrowsPercentage': 0.75, 'reboundsOffensive': 2, 'reboundsDefensive': 8, 'reboundsTotal': 10, 'assists': 8, 'steals': 3, 'blocks': 4, 'turnovers': 1, 'foulsPersonal': 1, 'points': 26}}}}\n"
     ]
    }
   ],
   "source": [
    "rangeType = '1'\n",
    "startRange = '0'\n",
    "endRange = '31800'\n",
    "ID = 1080\n",
    "temporada = '20'\n",
    "season='002'\n",
    "GameID = season + temporada + f'{ID:05d}'\n",
    "url_base = f'https://stats.nba.com/stats/boxscoretraditionalv3?GameID={GameID}&LeagueID=00&'\n",
    "Q = 1\n",
    "startPeriod, endPeriod = Q, Q\t\t\t\n",
    "url_stats = f'{url_base}endPeriod=1&endRange={endRange}&rangeType={rangeType}&startPeriod=1&startRange={startRange}'\n",
    "dictionary_data = requests.get(url_stats, headers=retorna_header()).json()\n",
    "print(dictionary_data)\n",
    "a_file = open(\"data.pkl\", \"wb\")\n",
    "pickle.dump(dictionary_data, a_file)\n",
    "a_file.close()\n",
    "\n",
    "a_file = open(\"data.pkl\", \"rb\")\n",
    "output = pickle.load(a_file)\n",
    "# print(output)\n"
   ]
  },
  {
   "cell_type": "markdown",
   "metadata": {},
   "source": [
    "https://stats.nba.com/stats/boxscoretraditionalv3?GameID=0022000001&LeagueID=00&endPeriod=0&endRange=7427&rangeType=2&startPeriod=0&startRange=0\n"
   ]
  },
  {
   "cell_type": "code",
   "execution_count": 3,
   "metadata": {},
   "outputs": [],
   "source": [
    "def retorna_header():\n",
    "  headers: dict = {'Accept': '*/*',\n",
    "                  'Accept-Encoding': 'gzip, deflate, br',\n",
    "                  'Accept-Language': 'pt-BR,pt;q=0.9,en-US;q=0.8,en;q=0.7',\n",
    "                  'Connection': 'keep-alive',\n",
    "                  'Host': 'stats.nba.com',\n",
    "                  'Origin': 'https://www.nba.com',\n",
    "                  'Referer': 'https://www.nba.com/',\n",
    "                  'sec-ch-ua': '\" Not;A Brand\";v=\"99\", \"Google Chrome\";v=\"91\", \"Chromium\";v=\"91\"',\n",
    "                  'sec-ch-ua-mobile': '?0',\n",
    "                  'Sec-Fetch-Dest': 'empty',\n",
    "                  'Sec-Fetch-Mode': 'cors',\n",
    "                  'Sec-Fetch-Site': 'same-site',\n",
    "                  'User-Agent': 'Mozilla/5.0 (Windows NT 10.0; Win64; x64) AppleWebKit/537.36 (KHTML, like Gecko) Chrome/91.0.4472.124 Safari/537.36'}\n",
    "\n",
    "  return headers"
   ]
  },
  {
   "cell_type": "code",
   "execution_count": null,
   "metadata": {},
   "outputs": [],
   "source": [
    "import pandas as pd\n",
    "import requests\n",
    "import sys\n",
    "import os"
   ]
  },
  {
   "cell_type": "code",
   "execution_count": null,
   "metadata": {},
   "outputs": [],
   "source": [
    "def retorna_header():\n",
    "  headers: dict = {'Accept': '*/*',\n",
    "                  'Accept-Encoding': 'gzip, deflate, br',\n",
    "                  'Accept-Language': 'pt-BR,pt;q=0.9,en-US;q=0.8,en;q=0.7',\n",
    "                  'Connection': 'keep-alive',\n",
    "                  'Host': 'stats.nba.com',\n",
    "                  'Origin': 'https://www.nba.com',\n",
    "                  'Referer': 'https://www.nba.com/',\n",
    "                  'sec-ch-ua': '\" Not;A Brand\";v=\"99\", \"Google Chrome\";v=\"91\", \"Chromium\";v=\"91\"',\n",
    "                  'sec-ch-ua-mobile': '?0',\n",
    "                  'Sec-Fetch-Dest': 'empty',\n",
    "                  'Sec-Fetch-Mode': 'cors',\n",
    "                  'Sec-Fetch-Site': 'same-site',\n",
    "                  'User-Agent': 'Mozilla/5.0 (Windows NT 10.0; Win64; x64) AppleWebKit/537.36 (KHTML, like Gecko) Chrome/91.0.4472.124 Safari/537.36'}\n",
    "\n",
    "  return headers"
   ]
  },
  {
   "cell_type": "code",
   "execution_count": null,
   "metadata": {},
   "outputs": [],
   "source": [
    "headers = retorna_header()  \n",
    "uri = 'https://stats.nba.com/stats/teamgamelog?DateFrom=&DateTo=&LeagueID=00&Season=2020-21&SeasonType=Regular+Season&TeamID=1610612751'"
   ]
  },
  {
   "cell_type": "code",
   "execution_count": null,
   "metadata": {},
   "outputs": [],
   "source": [
    "with requests.Session() as sessao:\n",
    "\t\t\t\tresposta: requests.models.Response = sessao.get(uri, headers=headers)\n",
    "\n",
    "y = resposta.json()"
   ]
  },
  {
   "cell_type": "code",
   "execution_count": null,
   "metadata": {},
   "outputs": [],
   "source": [
    "lst_id_data = [info[1:3] for info in y['resultSets'][0]['rowSet']]"
   ]
  },
  {
   "cell_type": "code",
   "execution_count": null,
   "metadata": {},
   "outputs": [
    {
     "data": {
      "text/plain": [
       "72"
      ]
     },
     "execution_count": 41,
     "metadata": {},
     "output_type": "execute_result"
    }
   ],
   "source": [
    "len(lst_id_data)"
   ]
  },
  {
   "cell_type": "code",
   "execution_count": null,
   "metadata": {},
   "outputs": [],
   "source": [
    "df_id_date = pd.DataFrame(lst_id_data)"
   ]
  },
  {
   "cell_type": "code",
   "execution_count": null,
   "metadata": {},
   "outputs": [],
   "source": [
    "df_id_date[1] = pd.to_datetime(df_id_date[1])"
   ]
  },
  {
   "cell_type": "code",
   "execution_count": null,
   "metadata": {},
   "outputs": [
    {
     "name": "stdout",
     "output_type": "stream",
     "text": [
      "<class 'pandas.core.frame.DataFrame'>\n",
      "RangeIndex: 72 entries, 0 to 71\n",
      "Data columns (total 2 columns):\n",
      " #   Column  Non-Null Count  Dtype         \n",
      "---  ------  --------------  -----         \n",
      " 0   0       72 non-null     object        \n",
      " 1   1       72 non-null     datetime64[ns]\n",
      "dtypes: datetime64[ns](1), object(1)\n",
      "memory usage: 1.2+ KB\n"
     ]
    }
   ],
   "source": [
    "df_id_date.info()"
   ]
  },
  {
   "cell_type": "code",
   "execution_count": null,
   "metadata": {},
   "outputs": [
    {
     "data": {
      "text/html": [
       "<div>\n",
       "<style scoped>\n",
       "    .dataframe tbody tr th:only-of-type {\n",
       "        vertical-align: middle;\n",
       "    }\n",
       "\n",
       "    .dataframe tbody tr th {\n",
       "        vertical-align: top;\n",
       "    }\n",
       "\n",
       "    .dataframe thead th {\n",
       "        text-align: right;\n",
       "    }\n",
       "</style>\n",
       "<table border=\"1\" class=\"dataframe\">\n",
       "  <thead>\n",
       "    <tr style=\"text-align: right;\">\n",
       "      <th></th>\n",
       "      <th>0</th>\n",
       "      <th>1</th>\n",
       "    </tr>\n",
       "  </thead>\n",
       "  <tbody>\n",
       "    <tr>\n",
       "      <th>71</th>\n",
       "      <td>0022000001</td>\n",
       "      <td>2020-12-22</td>\n",
       "    </tr>\n",
       "    <tr>\n",
       "      <th>70</th>\n",
       "      <td>0022000007</td>\n",
       "      <td>2020-12-25</td>\n",
       "    </tr>\n",
       "    <tr>\n",
       "      <th>69</th>\n",
       "      <td>0022000032</td>\n",
       "      <td>2020-12-27</td>\n",
       "    </tr>\n",
       "    <tr>\n",
       "      <th>68</th>\n",
       "      <td>0022000042</td>\n",
       "      <td>2020-12-28</td>\n",
       "    </tr>\n",
       "    <tr>\n",
       "      <th>67</th>\n",
       "      <td>0022000057</td>\n",
       "      <td>2020-12-30</td>\n",
       "    </tr>\n",
       "  </tbody>\n",
       "</table>\n",
       "</div>"
      ],
      "text/plain": [
       "             0          1\n",
       "71  0022000001 2020-12-22\n",
       "70  0022000007 2020-12-25\n",
       "69  0022000032 2020-12-27\n",
       "68  0022000042 2020-12-28\n",
       "67  0022000057 2020-12-30"
      ]
     },
     "execution_count": 53,
     "metadata": {},
     "output_type": "execute_result"
    }
   ],
   "source": [
    "df_id_date = df_id_date.sort_values(by=1)\n",
    "df_id_date.head()"
   ]
  },
  {
   "cell_type": "code",
   "execution_count": null,
   "metadata": {},
   "outputs": [
    {
     "data": {
      "text/html": [
       "<div>\n",
       "<style scoped>\n",
       "    .dataframe tbody tr th:only-of-type {\n",
       "        vertical-align: middle;\n",
       "    }\n",
       "\n",
       "    .dataframe tbody tr th {\n",
       "        vertical-align: top;\n",
       "    }\n",
       "\n",
       "    .dataframe thead th {\n",
       "        text-align: right;\n",
       "    }\n",
       "</style>\n",
       "<table border=\"1\" class=\"dataframe\">\n",
       "  <thead>\n",
       "    <tr style=\"text-align: right;\">\n",
       "      <th></th>\n",
       "      <th>id_game</th>\n",
       "      <th>date_game</th>\n",
       "    </tr>\n",
       "  </thead>\n",
       "  <tbody>\n",
       "    <tr>\n",
       "      <th>71</th>\n",
       "      <td>0022000001</td>\n",
       "      <td>2020-12-22</td>\n",
       "    </tr>\n",
       "    <tr>\n",
       "      <th>70</th>\n",
       "      <td>0022000007</td>\n",
       "      <td>2020-12-25</td>\n",
       "    </tr>\n",
       "    <tr>\n",
       "      <th>69</th>\n",
       "      <td>0022000032</td>\n",
       "      <td>2020-12-27</td>\n",
       "    </tr>\n",
       "    <tr>\n",
       "      <th>68</th>\n",
       "      <td>0022000042</td>\n",
       "      <td>2020-12-28</td>\n",
       "    </tr>\n",
       "    <tr>\n",
       "      <th>67</th>\n",
       "      <td>0022000057</td>\n",
       "      <td>2020-12-30</td>\n",
       "    </tr>\n",
       "  </tbody>\n",
       "</table>\n",
       "</div>"
      ],
      "text/plain": [
       "       id_game  date_game\n",
       "71  0022000001 2020-12-22\n",
       "70  0022000007 2020-12-25\n",
       "69  0022000032 2020-12-27\n",
       "68  0022000042 2020-12-28\n",
       "67  0022000057 2020-12-30"
      ]
     },
     "execution_count": 54,
     "metadata": {},
     "output_type": "execute_result"
    }
   ],
   "source": [
    "df_id_date.columns = ['id_game', 'date_game']\n",
    "df_id_date.head()"
   ]
  },
  {
   "cell_type": "code",
   "execution_count": null,
   "metadata": {},
   "outputs": [],
   "source": [
    "df_id_date.to_csv('../dados/nets_id_game_season_20_21.csv', index=False)"
   ]
  },
  {
   "cell_type": "code",
   "execution_count": null,
   "metadata": {},
   "outputs": [],
   "source": [
    "def jogo_todos_q(GameID):\n",
    "\n",
    "\tstatus_code = 200\n",
    "\tdf_players_all = pd.DataFrame()\n",
    "\tQ = 1\n",
    "\tnome_pasta_jogo, gameId = '', ''\n",
    "\trangeType = '1'\n",
    "\tstartRange = '0'\n",
    "\tendRange = '31800'\n",
    "\n",
    "\theaders = retorna_header()  \n",
    "\turl_base = f'https://stats.nba.com/stats/boxscoretraditionalv3?GameID={GameID}&LeagueID=00&'\n",
    "\n",
    "\twhile status_code != None:\n",
    "\n",
    "\t\tstartPeriod, endPeriod = Q, Q\n",
    "\t\t\n",
    "\t\turl_stats = f'{url_base}endPeriod={endPeriod}&endRange={endRange}&rangeType={rangeType}&startPeriod={startPeriod}&startRange={startRange}'\n",
    "\n",
    "\t\twith requests.Session() as sessao:\n",
    "\t\t\t\tresposta: requests.models.Response = sessao.get(url_stats, headers=headers)\n",
    "\n",
    "\t\ty = resposta.json()\n",
    "\t\t\n",
    "\t\tstatus_code = y['boxScoreTraditional']['homeTeam']['teamName']\n",
    "\n",
    "\t\tif status_code != None:\n",
    "\n",
    "\t\t\tname_homeTeam = y['boxScoreTraditional']['homeTeam']['teamName']\n",
    "\t\t\tname_awayTeam = y['boxScoreTraditional']['awayTeam']['teamName']\n",
    "\t\t\tgameId = y['boxScoreTraditional']['gameId']\n",
    "\t\t\t\n",
    "\t\t\tnome_pasta_jogo = f'{gameId}_{name_homeTeam}_{name_awayTeam}'\n",
    "\n",
    "\t\t\tdf_players_homeTeam = pd.json_normalize(y['boxScoreTraditional']['homeTeam']['players'])\n",
    "\t\t\tdf_players_homeTeam['teamName'] = name_homeTeam\n",
    "\t\t\tdf_players_awayTeam = pd.json_normalize(y['boxScoreTraditional']['awayTeam']['players'])\n",
    "\t\t\tdf_players_awayTeam['teamName'] = name_awayTeam\n",
    "\t\t\tdf_players = df_players_awayTeam.append(df_players_homeTeam)\n",
    "\n",
    "\t\t\tdf_players['Q'] = Q\n",
    "\t\t\tdf_players_all = df_players_all.append(df_players)\n",
    "\n",
    "\t\tQ += 1\n",
    "\n",
    "\ttry:\n",
    "\t\tos.mkdir(f'dados/{nome_pasta_jogo}')\n",
    "\texcept OSError:\n",
    "\t\tpass\n",
    "\n",
    "\tdf_players_all.to_csv(f'dados/{nome_pasta_jogo}/{gameId}_players_statistics.csv', index=False)"
   ]
  },
  {
   "cell_type": "code",
   "execution_count": null,
   "metadata": {},
   "outputs": [
    {
     "data": {
      "text/html": [
       "<div>\n",
       "<style scoped>\n",
       "    .dataframe tbody tr th:only-of-type {\n",
       "        vertical-align: middle;\n",
       "    }\n",
       "\n",
       "    .dataframe tbody tr th {\n",
       "        vertical-align: top;\n",
       "    }\n",
       "\n",
       "    .dataframe thead th {\n",
       "        text-align: right;\n",
       "    }\n",
       "</style>\n",
       "<table border=\"1\" class=\"dataframe\">\n",
       "  <thead>\n",
       "    <tr style=\"text-align: right;\">\n",
       "      <th></th>\n",
       "      <th>id_game</th>\n",
       "      <th>date_game</th>\n",
       "    </tr>\n",
       "  </thead>\n",
       "  <tbody>\n",
       "    <tr>\n",
       "      <th>0</th>\n",
       "      <td>22000001</td>\n",
       "      <td>2020-12-22</td>\n",
       "    </tr>\n",
       "    <tr>\n",
       "      <th>1</th>\n",
       "      <td>22000007</td>\n",
       "      <td>2020-12-25</td>\n",
       "    </tr>\n",
       "    <tr>\n",
       "      <th>2</th>\n",
       "      <td>22000032</td>\n",
       "      <td>2020-12-27</td>\n",
       "    </tr>\n",
       "    <tr>\n",
       "      <th>3</th>\n",
       "      <td>22000042</td>\n",
       "      <td>2020-12-28</td>\n",
       "    </tr>\n",
       "    <tr>\n",
       "      <th>4</th>\n",
       "      <td>22000057</td>\n",
       "      <td>2020-12-30</td>\n",
       "    </tr>\n",
       "  </tbody>\n",
       "</table>\n",
       "</div>"
      ],
      "text/plain": [
       "    id_game   date_game\n",
       "0  22000001  2020-12-22\n",
       "1  22000007  2020-12-25\n",
       "2  22000032  2020-12-27\n",
       "3  22000042  2020-12-28\n",
       "4  22000057  2020-12-30"
      ]
     },
     "execution_count": 7,
     "metadata": {},
     "output_type": "execute_result"
    }
   ],
   "source": [
    "df_id_date = pd.read_csv('../dados/nets_id_game_season_20_21.csv')\n",
    "df_id_date.head()"
   ]
  }
 ],
 "metadata": {
  "interpreter": {
   "hash": "28507ff82f7a6249121355dd710cf5a6f691ac69384b468748b19f7d810cf4b6"
  },
  "kernelspec": {
   "display_name": "Python 3.9.0 64-bit",
   "name": "python3"
  },
  "language_info": {
   "codemirror_mode": {
    "name": "ipython",
    "version": 3
   },
   "file_extension": ".py",
   "mimetype": "text/x-python",
   "name": "python",
   "nbconvert_exporter": "python",
   "pygments_lexer": "ipython3",
   "version": "3.9.0"
  },
  "orig_nbformat": 4
 },
 "nbformat": 4,
 "nbformat_minor": 2
}
