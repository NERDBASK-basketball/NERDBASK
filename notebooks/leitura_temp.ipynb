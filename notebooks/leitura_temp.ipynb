{
 "cells": [
  {
   "cell_type": "code",
   "execution_count": 8,
   "metadata": {},
   "outputs": [],
   "source": [
    "import pandas as pd"
   ]
  },
  {
   "cell_type": "code",
   "execution_count": 15,
   "metadata": {},
   "outputs": [
    {
     "data": {
      "text/plain": [
       "(79120, 31)"
      ]
     },
     "execution_count": 15,
     "metadata": {},
     "output_type": "execute_result"
    }
   ],
   "source": [
    "df_temp = pd.read_csv('C:/Users/igor_/Documents/GitHub/NERDBASK/dados/002_20_all_Q.csv')\n",
    "df_temp.shape"
   ]
  },
  {
   "cell_type": "code",
   "execution_count": 16,
   "metadata": {},
   "outputs": [
    {
     "data": {
      "text/plain": [
       "Index(['personId', 'firstName', 'familyName', 'nameI', 'playerSlug',\n",
       "       'position', 'comment', 'jerseyNum', 'statistics.minutes',\n",
       "       'statistics.fieldGoalsMade', 'statistics.fieldGoalsAttempted',\n",
       "       'statistics.fieldGoalsPercentage', 'statistics.threePointersMade',\n",
       "       'statistics.threePointersAttempted',\n",
       "       'statistics.threePointersPercentage', 'statistics.freeThrowsMade',\n",
       "       'statistics.freeThrowsAttempted', 'statistics.freeThrowsPercentage',\n",
       "       'statistics.reboundsOffensive', 'statistics.reboundsDefensive',\n",
       "       'statistics.reboundsTotal', 'statistics.assists', 'statistics.steals',\n",
       "       'statistics.blocks', 'statistics.turnovers', 'statistics.foulsPersonal',\n",
       "       'statistics.points', 'statistics.plusMinusPoints', 'teamName', 'gameId',\n",
       "       'Q'],\n",
       "      dtype='object')"
      ]
     },
     "execution_count": 16,
     "metadata": {},
     "output_type": "execute_result"
    }
   ],
   "source": [
    "df_temp.columns"
   ]
  },
  {
   "cell_type": "code",
   "execution_count": 23,
   "metadata": {},
   "outputs": [
    {
     "data": {
      "text/plain": [
       "(72,)"
      ]
     },
     "execution_count": 23,
     "metadata": {},
     "output_type": "execute_result"
    }
   ],
   "source": [
    "df_temp.query('teamName == \"Nets\"')['gameId'].unique().shape"
   ]
  }
 ],
 "metadata": {
  "interpreter": {
   "hash": "28507ff82f7a6249121355dd710cf5a6f691ac69384b468748b19f7d810cf4b6"
  },
  "kernelspec": {
   "display_name": "Python 3.9.0 64-bit",
   "name": "python3"
  },
  "language_info": {
   "codemirror_mode": {
    "name": "ipython",
    "version": 3
   },
   "file_extension": ".py",
   "mimetype": "text/x-python",
   "name": "python",
   "nbconvert_exporter": "python",
   "pygments_lexer": "ipython3",
   "version": "3.9.0"
  },
  "orig_nbformat": 4
 },
 "nbformat": 4,
 "nbformat_minor": 2
}
